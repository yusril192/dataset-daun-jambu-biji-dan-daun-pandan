{
 "cells": [
  {
   "cell_type": "markdown",
   "metadata": {},
   "source": [
    "<h3>1. Import module yang dibutuhkan</h3>"
   ]
  },
  {
   "cell_type": "code",
   "execution_count": 1,
   "metadata": {},
   "outputs": [],
   "source": [
    "from sklearn.model_selection import train_test_split\n",
    "from sklearn.preprocessing import LabelEncoder\n",
    "from sklearn.metrics import classification_report\n",
    "from tensorflow.keras.models import Sequential\n",
    "from tensorflow.keras.layers import Flatten, Dense\n",
    "from tensorflow.keras.optimizers import SGD\n",
    "import numpy as np\n",
    "import cv2\n",
    "import glob\n",
    "import matplotlib.pyplot as plt"
   ]
  },
  {
   "cell_type": "markdown",
   "metadata": {},
   "source": [
    "<h3>2. Load Dataset</h3>"
   ]
  },
  {
   "cell_type": "code",
   "execution_count": 2,
   "metadata": {},
   "outputs": [],
   "source": [
    "imagePaths = 'dataset\\\\daun_jp\\\\'\n",
    "label_list = ['jambu_biji', 'pandan']\n",
    "data = []\n",
    "labels = []"
   ]
  },
  {
   "cell_type": "code",
   "execution_count": 3,
   "metadata": {},
   "outputs": [],
   "source": [
    "for label in label_list:\n",
    "    for imagePath in glob.glob(imagePaths+label+'\\\\*.jpg'):\n",
    "        #print(imagePath)\n",
    "        image = cv2.imread(imagePath)\n",
    "        image = cv2.resize(image, (32, 32))\n",
    "        data.append(image)\n",
    "        labels.append(label)"
   ]
  },
  {
   "cell_type": "code",
   "execution_count": 4,
   "metadata": {},
   "outputs": [
    {
     "data": {
      "text/plain": [
       "(0,)"
      ]
     },
     "execution_count": 4,
     "metadata": {},
     "output_type": "execute_result"
    }
   ],
   "source": [
    "np.array(data).shape"
   ]
  },
  {
   "cell_type": "markdown",
   "metadata": {},
   "source": [
    "<h3>3. Data Preprocessing</h3>"
   ]
  },
  {
   "cell_type": "code",
   "execution_count": 5,
   "metadata": {},
   "outputs": [],
   "source": [
    "# ubah type data dari list menjadi array\n",
    "# ubah nilai dari tiap pixel menjadi range [0..1]\n",
    "data = np.array(data, dtype='float') / 255.0\n",
    "labels = np.array(labels)"
   ]
  },
  {
   "cell_type": "code",
   "execution_count": 6,
   "metadata": {},
   "outputs": [
    {
     "name": "stdout",
     "output_type": "stream",
     "text": [
      "[]\n"
     ]
    }
   ],
   "source": [
    "print(labels)"
   ]
  },
  {
   "cell_type": "code",
   "execution_count": 7,
   "metadata": {},
   "outputs": [
    {
     "name": "stdout",
     "output_type": "stream",
     "text": [
      "[]\n"
     ]
    }
   ],
   "source": [
    "# ubah nilai dari labels menjadi binary\n",
    "lb = LabelEncoder()\n",
    "labels = lb.fit_transform(labels)\n",
    "print(labels)"
   ]
  },
  {
   "cell_type": "markdown",
   "metadata": {},
   "source": [
    "<h3>4. Split Dataset</h3>"
   ]
  },
  {
   "cell_type": "code",
   "execution_count": 8,
   "metadata": {},
   "outputs": [
    {
     "ename": "ValueError",
     "evalue": "With n_samples=0, test_size=0.2 and train_size=None, the resulting train set will be empty. Adjust any of the aforementioned parameters.",
     "output_type": "error",
     "traceback": [
      "\u001b[1;31m---------------------------------------------------------------------------\u001b[0m",
      "\u001b[1;31mValueError\u001b[0m                                Traceback (most recent call last)",
      "\u001b[1;32m~\\AppData\\Local\\Temp/ipykernel_19044/4157309345.py\u001b[0m in \u001b[0;36m<module>\u001b[1;34m\u001b[0m\n\u001b[1;32m----> 1\u001b[1;33m \u001b[0mx_train\u001b[0m\u001b[1;33m,\u001b[0m \u001b[0mx_test\u001b[0m\u001b[1;33m,\u001b[0m \u001b[0my_train\u001b[0m\u001b[1;33m,\u001b[0m \u001b[0my_test\u001b[0m \u001b[1;33m=\u001b[0m \u001b[0mtrain_test_split\u001b[0m\u001b[1;33m(\u001b[0m\u001b[0mdata\u001b[0m\u001b[1;33m,\u001b[0m \u001b[0mlabels\u001b[0m\u001b[1;33m,\u001b[0m \u001b[0mtest_size\u001b[0m\u001b[1;33m=\u001b[0m\u001b[1;36m0.2\u001b[0m\u001b[1;33m,\u001b[0m \u001b[0mrandom_state\u001b[0m\u001b[1;33m=\u001b[0m\u001b[1;36m42\u001b[0m\u001b[1;33m)\u001b[0m\u001b[1;33m\u001b[0m\u001b[1;33m\u001b[0m\u001b[0m\n\u001b[0m",
      "\u001b[1;32m~\\AppData\\Local\\Programs\\Python\\Python39\\lib\\site-packages\\sklearn\\model_selection\\_split.py\u001b[0m in \u001b[0;36mtrain_test_split\u001b[1;34m(test_size, train_size, random_state, shuffle, stratify, *arrays)\u001b[0m\n\u001b[0;32m   2420\u001b[0m \u001b[1;33m\u001b[0m\u001b[0m\n\u001b[0;32m   2421\u001b[0m     \u001b[0mn_samples\u001b[0m \u001b[1;33m=\u001b[0m \u001b[0m_num_samples\u001b[0m\u001b[1;33m(\u001b[0m\u001b[0marrays\u001b[0m\u001b[1;33m[\u001b[0m\u001b[1;36m0\u001b[0m\u001b[1;33m]\u001b[0m\u001b[1;33m)\u001b[0m\u001b[1;33m\u001b[0m\u001b[1;33m\u001b[0m\u001b[0m\n\u001b[1;32m-> 2422\u001b[1;33m     n_train, n_test = _validate_shuffle_split(\n\u001b[0m\u001b[0;32m   2423\u001b[0m         \u001b[0mn_samples\u001b[0m\u001b[1;33m,\u001b[0m \u001b[0mtest_size\u001b[0m\u001b[1;33m,\u001b[0m \u001b[0mtrain_size\u001b[0m\u001b[1;33m,\u001b[0m \u001b[0mdefault_test_size\u001b[0m\u001b[1;33m=\u001b[0m\u001b[1;36m0.25\u001b[0m\u001b[1;33m\u001b[0m\u001b[1;33m\u001b[0m\u001b[0m\n\u001b[0;32m   2424\u001b[0m     )\n",
      "\u001b[1;32m~\\AppData\\Local\\Programs\\Python\\Python39\\lib\\site-packages\\sklearn\\model_selection\\_split.py\u001b[0m in \u001b[0;36m_validate_shuffle_split\u001b[1;34m(n_samples, test_size, train_size, default_test_size)\u001b[0m\n\u001b[0;32m   2096\u001b[0m \u001b[1;33m\u001b[0m\u001b[0m\n\u001b[0;32m   2097\u001b[0m     \u001b[1;32mif\u001b[0m \u001b[0mn_train\u001b[0m \u001b[1;33m==\u001b[0m \u001b[1;36m0\u001b[0m\u001b[1;33m:\u001b[0m\u001b[1;33m\u001b[0m\u001b[1;33m\u001b[0m\u001b[0m\n\u001b[1;32m-> 2098\u001b[1;33m         raise ValueError(\n\u001b[0m\u001b[0;32m   2099\u001b[0m             \u001b[1;34m\"With n_samples={}, test_size={} and train_size={}, the \"\u001b[0m\u001b[1;33m\u001b[0m\u001b[1;33m\u001b[0m\u001b[0m\n\u001b[0;32m   2100\u001b[0m             \u001b[1;34m\"resulting train set will be empty. Adjust any of the \"\u001b[0m\u001b[1;33m\u001b[0m\u001b[1;33m\u001b[0m\u001b[0m\n",
      "\u001b[1;31mValueError\u001b[0m: With n_samples=0, test_size=0.2 and train_size=None, the resulting train set will be empty. Adjust any of the aforementioned parameters."
     ]
    }
   ],
   "source": [
    "x_train, x_test, y_train, y_test = train_test_split(data, labels, test_size=0.2, random_state=42)"
   ]
  },
  {
   "cell_type": "code",
   "execution_count": null,
   "metadata": {},
   "outputs": [
    {
     "name": "stdout",
     "output_type": "stream",
     "text": [
      "Ukuran data train = (92, 32, 32, 3)\n",
      "Ukuran data test = (23, 32, 32, 3)\n"
     ]
    }
   ],
   "source": [
    "print('Ukuran data train =', x_train.shape)\n",
    "print('Ukuran data test =', x_test.shape)"
   ]
  },
  {
   "cell_type": "markdown",
   "metadata": {},
   "source": [
    "<h3>5. Build ANN Architecture</h3>"
   ]
  },
  {
   "cell_type": "code",
   "execution_count": null,
   "metadata": {},
   "outputs": [],
   "source": [
    "model = Sequential()\n",
    "model.add(Flatten(input_shape=(32,32,3)))\n",
    "model.add(Dense(1024, activation=\"relu\"))\n",
    "model.add(Dense(1024, activation=\"relu\"))\n",
    "model.add(Dense(1, activation=\"sigmoid\"))"
   ]
  },
  {
   "cell_type": "code",
   "execution_count": null,
   "metadata": {},
   "outputs": [
    {
     "name": "stdout",
     "output_type": "stream",
     "text": [
      "Model: \"sequential\"\n",
      "_________________________________________________________________\n",
      " Layer (type)                Output Shape              Param #   \n",
      "=================================================================\n",
      " flatten (Flatten)           (None, 3072)              0         \n",
      "                                                                 \n",
      " dense (Dense)               (None, 1024)              3146752   \n",
      "                                                                 \n",
      " dense_1 (Dense)             (None, 1024)              1049600   \n",
      "                                                                 \n",
      " dense_2 (Dense)             (None, 1)                 1025      \n",
      "                                                                 \n",
      "=================================================================\n",
      "Total params: 4,197,377\n",
      "Trainable params: 4,197,377\n",
      "Non-trainable params: 0\n",
      "_________________________________________________________________\n"
     ]
    }
   ],
   "source": [
    "model.summary()"
   ]
  },
  {
   "cell_type": "code",
   "execution_count": null,
   "metadata": {},
   "outputs": [],
   "source": [
    "# tentukan hyperparameter\n",
    "lr = 0.01\n",
    "max_epochs = 100\n",
    "opt_funct = SGD(learning_rate=lr)"
   ]
  },
  {
   "cell_type": "code",
   "execution_count": null,
   "metadata": {},
   "outputs": [],
   "source": [
    "# compile arsitektur yang telah dibuat\n",
    "model.compile(loss = 'binary_crossentropy', \n",
    "              optimizer = opt_funct, \n",
    "              metrics = ['accuracy'])"
   ]
  },
  {
   "cell_type": "markdown",
   "metadata": {},
   "source": [
    "<h3>6. Train Model</h3>"
   ]
  },
  {
   "cell_type": "code",
   "execution_count": null,
   "metadata": {},
   "outputs": [
    {
     "name": "stdout",
     "output_type": "stream",
     "text": [
      "Epoch 1/100\n",
      "3/3 [==============================] - 1s 100ms/step - loss: 0.6960 - accuracy: 0.5326 - val_loss: 0.9902 - val_accuracy: 0.5217\n",
      "Epoch 2/100\n",
      "3/3 [==============================] - 0s 38ms/step - loss: 0.8896 - accuracy: 0.5543 - val_loss: 0.6908 - val_accuracy: 0.5652\n",
      "Epoch 3/100\n",
      "3/3 [==============================] - 0s 28ms/step - loss: 0.7552 - accuracy: 0.5978 - val_loss: 1.0493 - val_accuracy: 0.5217\n",
      "Epoch 4/100\n",
      "3/3 [==============================] - 0s 23ms/step - loss: 0.6567 - accuracy: 0.6522 - val_loss: 0.9109 - val_accuracy: 0.4783\n",
      "Epoch 5/100\n",
      "3/3 [==============================] - 0s 23ms/step - loss: 0.6985 - accuracy: 0.5109 - val_loss: 1.0893 - val_accuracy: 0.5217\n",
      "Epoch 6/100\n",
      "3/3 [==============================] - 0s 25ms/step - loss: 0.6523 - accuracy: 0.6087 - val_loss: 0.8571 - val_accuracy: 0.5217\n",
      "Epoch 7/100\n",
      "3/3 [==============================] - 0s 25ms/step - loss: 0.7528 - accuracy: 0.4674 - val_loss: 0.6551 - val_accuracy: 0.5652\n",
      "Epoch 8/100\n",
      "3/3 [==============================] - 0s 24ms/step - loss: 0.5311 - accuracy: 0.8478 - val_loss: 0.6732 - val_accuracy: 0.5217\n",
      "Epoch 9/100\n",
      "3/3 [==============================] - 0s 24ms/step - loss: 0.5116 - accuracy: 0.8152 - val_loss: 0.7200 - val_accuracy: 0.5217\n",
      "Epoch 10/100\n",
      "3/3 [==============================] - 0s 24ms/step - loss: 0.6949 - accuracy: 0.5217 - val_loss: 0.6751 - val_accuracy: 0.5217\n",
      "Epoch 11/100\n",
      "3/3 [==============================] - 0s 25ms/step - loss: 0.5277 - accuracy: 0.7826 - val_loss: 0.6470 - val_accuracy: 0.6522\n",
      "Epoch 12/100\n",
      "3/3 [==============================] - 0s 36ms/step - loss: 0.5085 - accuracy: 0.7609 - val_loss: 0.6508 - val_accuracy: 0.5652\n",
      "Epoch 13/100\n",
      "3/3 [==============================] - 0s 28ms/step - loss: 0.5086 - accuracy: 0.7609 - val_loss: 0.6316 - val_accuracy: 0.6522\n",
      "Epoch 14/100\n",
      "3/3 [==============================] - 0s 29ms/step - loss: 0.5128 - accuracy: 0.7826 - val_loss: 0.8659 - val_accuracy: 0.5217\n",
      "Epoch 15/100\n",
      "3/3 [==============================] - 0s 28ms/step - loss: 0.6943 - accuracy: 0.5326 - val_loss: 0.6890 - val_accuracy: 0.5217\n",
      "Epoch 16/100\n",
      "3/3 [==============================] - 0s 28ms/step - loss: 0.4694 - accuracy: 0.8587 - val_loss: 0.6358 - val_accuracy: 0.5217\n",
      "Epoch 17/100\n",
      "3/3 [==============================] - 0s 29ms/step - loss: 0.4456 - accuracy: 0.8370 - val_loss: 0.6297 - val_accuracy: 0.6087\n",
      "Epoch 18/100\n",
      "3/3 [==============================] - 0s 32ms/step - loss: 0.6410 - accuracy: 0.5978 - val_loss: 1.2218 - val_accuracy: 0.5217\n",
      "Epoch 19/100\n",
      "3/3 [==============================] - 0s 32ms/step - loss: 0.7294 - accuracy: 0.6413 - val_loss: 0.7094 - val_accuracy: 0.5217\n",
      "Epoch 20/100\n",
      "3/3 [==============================] - 0s 28ms/step - loss: 0.4574 - accuracy: 0.8261 - val_loss: 0.6231 - val_accuracy: 0.7391\n",
      "Epoch 21/100\n",
      "3/3 [==============================] - 0s 35ms/step - loss: 0.4360 - accuracy: 0.8804 - val_loss: 0.6378 - val_accuracy: 0.5652\n",
      "Epoch 22/100\n",
      "3/3 [==============================] - 0s 30ms/step - loss: 0.4161 - accuracy: 0.8804 - val_loss: 0.6860 - val_accuracy: 0.5652\n",
      "Epoch 23/100\n",
      "3/3 [==============================] - 0s 30ms/step - loss: 0.3948 - accuracy: 0.8804 - val_loss: 0.6222 - val_accuracy: 0.6087\n",
      "Epoch 24/100\n",
      "3/3 [==============================] - 0s 31ms/step - loss: 0.4184 - accuracy: 0.8696 - val_loss: 0.6576 - val_accuracy: 0.5652\n",
      "Epoch 25/100\n",
      "3/3 [==============================] - 0s 30ms/step - loss: 0.4495 - accuracy: 0.8043 - val_loss: 0.6998 - val_accuracy: 0.5652\n",
      "Epoch 26/100\n",
      "3/3 [==============================] - 0s 29ms/step - loss: 0.6653 - accuracy: 0.6304 - val_loss: 0.7162 - val_accuracy: 0.5217\n",
      "Epoch 27/100\n",
      "3/3 [==============================] - 0s 27ms/step - loss: 0.4161 - accuracy: 0.7935 - val_loss: 0.6460 - val_accuracy: 0.5652\n",
      "Epoch 28/100\n",
      "3/3 [==============================] - 0s 29ms/step - loss: 0.4075 - accuracy: 0.8261 - val_loss: 0.6110 - val_accuracy: 0.6522\n",
      "Epoch 29/100\n",
      "3/3 [==============================] - 0s 27ms/step - loss: 0.5532 - accuracy: 0.7391 - val_loss: 0.6643 - val_accuracy: 0.5652\n",
      "Epoch 30/100\n",
      "3/3 [==============================] - 0s 23ms/step - loss: 0.3943 - accuracy: 0.8696 - val_loss: 0.6091 - val_accuracy: 0.6957\n",
      "Epoch 31/100\n",
      "3/3 [==============================] - 0s 24ms/step - loss: 0.4929 - accuracy: 0.7717 - val_loss: 0.8429 - val_accuracy: 0.5217\n",
      "Epoch 32/100\n",
      "3/3 [==============================] - 0s 26ms/step - loss: 0.4408 - accuracy: 0.8370 - val_loss: 0.6535 - val_accuracy: 0.5652\n",
      "Epoch 33/100\n",
      "3/3 [==============================] - 0s 26ms/step - loss: 0.3776 - accuracy: 0.8696 - val_loss: 0.6140 - val_accuracy: 0.5652\n",
      "Epoch 34/100\n",
      "3/3 [==============================] - 0s 23ms/step - loss: 0.3499 - accuracy: 0.9348 - val_loss: 0.6304 - val_accuracy: 0.5652\n",
      "Epoch 35/100\n",
      "3/3 [==============================] - 0s 22ms/step - loss: 0.3455 - accuracy: 0.9348 - val_loss: 0.6312 - val_accuracy: 0.6522\n",
      "Epoch 36/100\n",
      "3/3 [==============================] - 0s 24ms/step - loss: 0.4087 - accuracy: 0.8478 - val_loss: 0.6774 - val_accuracy: 0.5652\n",
      "Epoch 37/100\n",
      "3/3 [==============================] - 0s 27ms/step - loss: 0.4523 - accuracy: 0.7609 - val_loss: 0.6164 - val_accuracy: 0.6522\n",
      "Epoch 38/100\n",
      "3/3 [==============================] - 0s 22ms/step - loss: 0.4783 - accuracy: 0.7935 - val_loss: 0.7328 - val_accuracy: 0.5217\n",
      "Epoch 39/100\n",
      "3/3 [==============================] - 0s 23ms/step - loss: 0.3675 - accuracy: 0.8478 - val_loss: 0.7890 - val_accuracy: 0.5217\n",
      "Epoch 40/100\n",
      "3/3 [==============================] - 0s 22ms/step - loss: 0.4558 - accuracy: 0.7500 - val_loss: 0.6022 - val_accuracy: 0.6957\n",
      "Epoch 41/100\n",
      "3/3 [==============================] - 0s 22ms/step - loss: 0.3289 - accuracy: 0.9022 - val_loss: 0.6589 - val_accuracy: 0.5652\n",
      "Epoch 42/100\n",
      "3/3 [==============================] - 0s 26ms/step - loss: 0.3267 - accuracy: 0.8913 - val_loss: 0.6921 - val_accuracy: 0.5652\n",
      "Epoch 43/100\n",
      "3/3 [==============================] - 0s 23ms/step - loss: 0.5172 - accuracy: 0.7609 - val_loss: 0.7380 - val_accuracy: 0.5217\n",
      "Epoch 44/100\n",
      "3/3 [==============================] - 0s 23ms/step - loss: 0.4790 - accuracy: 0.7500 - val_loss: 0.7804 - val_accuracy: 0.5217\n",
      "Epoch 45/100\n",
      "3/3 [==============================] - 0s 23ms/step - loss: 0.3479 - accuracy: 0.8587 - val_loss: 0.6780 - val_accuracy: 0.5652\n",
      "Epoch 46/100\n",
      "3/3 [==============================] - 0s 23ms/step - loss: 0.3432 - accuracy: 0.8587 - val_loss: 0.6205 - val_accuracy: 0.6522\n",
      "Epoch 47/100\n",
      "3/3 [==============================] - 0s 25ms/step - loss: 0.3350 - accuracy: 0.8913 - val_loss: 0.5914 - val_accuracy: 0.6522\n",
      "Epoch 48/100\n",
      "3/3 [==============================] - 0s 23ms/step - loss: 0.3262 - accuracy: 0.9239 - val_loss: 0.5884 - val_accuracy: 0.6957\n",
      "Epoch 49/100\n",
      "3/3 [==============================] - 0s 22ms/step - loss: 0.3226 - accuracy: 0.9022 - val_loss: 0.6548 - val_accuracy: 0.5652\n",
      "Epoch 50/100\n",
      "3/3 [==============================] - 0s 24ms/step - loss: 0.3802 - accuracy: 0.8261 - val_loss: 0.7099 - val_accuracy: 0.5652\n",
      "Epoch 51/100\n",
      "3/3 [==============================] - 0s 24ms/step - loss: 0.4402 - accuracy: 0.7935 - val_loss: 0.6738 - val_accuracy: 0.5652\n",
      "Epoch 52/100\n",
      "3/3 [==============================] - 0s 22ms/step - loss: 0.4013 - accuracy: 0.8370 - val_loss: 0.5811 - val_accuracy: 0.6957\n",
      "Epoch 53/100\n",
      "3/3 [==============================] - 0s 20ms/step - loss: 0.2817 - accuracy: 0.9130 - val_loss: 0.6409 - val_accuracy: 0.5652\n",
      "Epoch 54/100\n",
      "3/3 [==============================] - 0s 25ms/step - loss: 0.5446 - accuracy: 0.7174 - val_loss: 0.5842 - val_accuracy: 0.6957\n",
      "Epoch 55/100\n",
      "3/3 [==============================] - 0s 18ms/step - loss: 0.2919 - accuracy: 0.9565 - val_loss: 0.5817 - val_accuracy: 0.6957\n",
      "Epoch 56/100\n",
      "3/3 [==============================] - 0s 22ms/step - loss: 0.2876 - accuracy: 0.9348 - val_loss: 0.7675 - val_accuracy: 0.5217\n",
      "Epoch 57/100\n",
      "3/3 [==============================] - 0s 23ms/step - loss: 0.3052 - accuracy: 0.8804 - val_loss: 0.5814 - val_accuracy: 0.6522\n",
      "Epoch 58/100\n",
      "3/3 [==============================] - 0s 23ms/step - loss: 0.2971 - accuracy: 0.9022 - val_loss: 0.9289 - val_accuracy: 0.5217\n",
      "Epoch 59/100\n",
      "3/3 [==============================] - 0s 24ms/step - loss: 0.3326 - accuracy: 0.8587 - val_loss: 0.6054 - val_accuracy: 0.6522\n",
      "Epoch 60/100\n",
      "3/3 [==============================] - 0s 21ms/step - loss: 0.3095 - accuracy: 0.8696 - val_loss: 0.8737 - val_accuracy: 0.5217\n",
      "Epoch 61/100\n",
      "3/3 [==============================] - 0s 21ms/step - loss: 0.4180 - accuracy: 0.7500 - val_loss: 0.8236 - val_accuracy: 0.5652\n",
      "Epoch 62/100\n",
      "3/3 [==============================] - 0s 22ms/step - loss: 0.3924 - accuracy: 0.8152 - val_loss: 0.6275 - val_accuracy: 0.6087\n",
      "Epoch 63/100\n",
      "3/3 [==============================] - 0s 16ms/step - loss: 0.2516 - accuracy: 0.9348 - val_loss: 0.6080 - val_accuracy: 0.6087\n",
      "Epoch 64/100\n",
      "3/3 [==============================] - 0s 28ms/step - loss: 0.3031 - accuracy: 0.8913 - val_loss: 0.6125 - val_accuracy: 0.6957\n",
      "Epoch 65/100\n",
      "3/3 [==============================] - 0s 23ms/step - loss: 0.2573 - accuracy: 0.9239 - val_loss: 0.6379 - val_accuracy: 0.6087\n",
      "Epoch 66/100\n",
      "3/3 [==============================] - 0s 23ms/step - loss: 0.2373 - accuracy: 0.9457 - val_loss: 0.7003 - val_accuracy: 0.6087\n",
      "Epoch 67/100\n",
      "3/3 [==============================] - 0s 28ms/step - loss: 0.2620 - accuracy: 0.9348 - val_loss: 0.5862 - val_accuracy: 0.6087\n",
      "Epoch 68/100\n",
      "3/3 [==============================] - 0s 31ms/step - loss: 0.3058 - accuracy: 0.8913 - val_loss: 1.0878 - val_accuracy: 0.5217\n",
      "Epoch 69/100\n",
      "3/3 [==============================] - 0s 33ms/step - loss: 0.3882 - accuracy: 0.8043 - val_loss: 0.7120 - val_accuracy: 0.6087\n",
      "Epoch 70/100\n",
      "3/3 [==============================] - 0s 31ms/step - loss: 0.2843 - accuracy: 0.9130 - val_loss: 0.6478 - val_accuracy: 0.6087\n",
      "Epoch 71/100\n",
      "3/3 [==============================] - 0s 33ms/step - loss: 0.3263 - accuracy: 0.8696 - val_loss: 0.5765 - val_accuracy: 0.6957\n",
      "Epoch 72/100\n",
      "3/3 [==============================] - 0s 30ms/step - loss: 0.2434 - accuracy: 0.9130 - val_loss: 0.6706 - val_accuracy: 0.6087\n",
      "Epoch 73/100\n",
      "3/3 [==============================] - 0s 27ms/step - loss: 0.3188 - accuracy: 0.8587 - val_loss: 0.5845 - val_accuracy: 0.6522\n",
      "Epoch 74/100\n",
      "3/3 [==============================] - 0s 29ms/step - loss: 0.2247 - accuracy: 0.9457 - val_loss: 0.5718 - val_accuracy: 0.6522\n",
      "Epoch 75/100\n",
      "3/3 [==============================] - 0s 25ms/step - loss: 0.3839 - accuracy: 0.8478 - val_loss: 0.8296 - val_accuracy: 0.5652\n",
      "Epoch 76/100\n",
      "3/3 [==============================] - 0s 31ms/step - loss: 0.3940 - accuracy: 0.8152 - val_loss: 0.6850 - val_accuracy: 0.5652\n",
      "Epoch 77/100\n",
      "3/3 [==============================] - 0s 26ms/step - loss: 0.3688 - accuracy: 0.8043 - val_loss: 0.6957 - val_accuracy: 0.5652\n",
      "Epoch 78/100\n",
      "3/3 [==============================] - 0s 26ms/step - loss: 0.2760 - accuracy: 0.9130 - val_loss: 0.5580 - val_accuracy: 0.6522\n",
      "Epoch 79/100\n",
      "3/3 [==============================] - 0s 25ms/step - loss: 0.2582 - accuracy: 0.9348 - val_loss: 0.8741 - val_accuracy: 0.5217\n",
      "Epoch 80/100\n",
      "3/3 [==============================] - 0s 26ms/step - loss: 0.3063 - accuracy: 0.8804 - val_loss: 0.6530 - val_accuracy: 0.6087\n",
      "Epoch 81/100\n",
      "3/3 [==============================] - 0s 29ms/step - loss: 0.2088 - accuracy: 0.9565 - val_loss: 0.5764 - val_accuracy: 0.6522\n",
      "Epoch 82/100\n",
      "3/3 [==============================] - 0s 25ms/step - loss: 0.2164 - accuracy: 0.9457 - val_loss: 0.8940 - val_accuracy: 0.5217\n",
      "Epoch 83/100\n",
      "3/3 [==============================] - 0s 26ms/step - loss: 0.2499 - accuracy: 0.9348 - val_loss: 0.5859 - val_accuracy: 0.6087\n",
      "Epoch 84/100\n",
      "3/3 [==============================] - 0s 27ms/step - loss: 0.1860 - accuracy: 0.9891 - val_loss: 0.6245 - val_accuracy: 0.6522\n",
      "Epoch 85/100\n",
      "3/3 [==============================] - 0s 25ms/step - loss: 0.3231 - accuracy: 0.8587 - val_loss: 0.5962 - val_accuracy: 0.6087\n",
      "Epoch 86/100\n",
      "3/3 [==============================] - 0s 26ms/step - loss: 0.2052 - accuracy: 0.9457 - val_loss: 0.6164 - val_accuracy: 0.6522\n",
      "Epoch 87/100\n",
      "3/3 [==============================] - 0s 35ms/step - loss: 0.2490 - accuracy: 0.9022 - val_loss: 0.8666 - val_accuracy: 0.5217\n",
      "Epoch 88/100\n",
      "3/3 [==============================] - 0s 37ms/step - loss: 0.2925 - accuracy: 0.9022 - val_loss: 0.5678 - val_accuracy: 0.6957\n",
      "Epoch 89/100\n",
      "3/3 [==============================] - 0s 22ms/step - loss: 0.2041 - accuracy: 0.9565 - val_loss: 0.5902 - val_accuracy: 0.6087\n",
      "Epoch 90/100\n",
      "3/3 [==============================] - 0s 32ms/step - loss: 0.2069 - accuracy: 0.9674 - val_loss: 0.7568 - val_accuracy: 0.6087\n",
      "Epoch 91/100\n",
      "3/3 [==============================] - 0s 31ms/step - loss: 0.2670 - accuracy: 0.9022 - val_loss: 0.6356 - val_accuracy: 0.6522\n",
      "Epoch 92/100\n",
      "3/3 [==============================] - 0s 37ms/step - loss: 0.1731 - accuracy: 0.9783 - val_loss: 0.6226 - val_accuracy: 0.6087\n",
      "Epoch 93/100\n",
      "3/3 [==============================] - 0s 24ms/step - loss: 0.1658 - accuracy: 0.9891 - val_loss: 0.6410 - val_accuracy: 0.6522\n",
      "Epoch 94/100\n",
      "3/3 [==============================] - 0s 22ms/step - loss: 0.3620 - accuracy: 0.7717 - val_loss: 0.8913 - val_accuracy: 0.5652\n",
      "Epoch 95/100\n",
      "3/3 [==============================] - 0s 26ms/step - loss: 0.3707 - accuracy: 0.8478 - val_loss: 0.5728 - val_accuracy: 0.6522\n",
      "Epoch 96/100\n",
      "3/3 [==============================] - 0s 22ms/step - loss: 0.2773 - accuracy: 0.8913 - val_loss: 0.8462 - val_accuracy: 0.6087\n",
      "Epoch 97/100\n",
      "3/3 [==============================] - 0s 33ms/step - loss: 0.2899 - accuracy: 0.9022 - val_loss: 0.7489 - val_accuracy: 0.5652\n",
      "Epoch 98/100\n",
      "3/3 [==============================] - 0s 34ms/step - loss: 0.2265 - accuracy: 0.9348 - val_loss: 0.5562 - val_accuracy: 0.6522\n",
      "Epoch 99/100\n",
      "3/3 [==============================] - 0s 23ms/step - loss: 0.2523 - accuracy: 0.9239 - val_loss: 1.1600 - val_accuracy: 0.5217\n",
      "Epoch 100/100\n",
      "3/3 [==============================] - 0s 19ms/step - loss: 0.3071 - accuracy: 0.8587 - val_loss: 0.5767 - val_accuracy: 0.6087\n"
     ]
    }
   ],
   "source": [
    "H = model.fit(x_train, y_train, validation_data=(x_test, y_test), \n",
    "          epochs=max_epochs, batch_size=32)"
   ]
  },
  {
   "cell_type": "code",
   "execution_count": null,
   "metadata": {},
   "outputs": [
    {
     "data": {
      "image/png": "[encoded data removed]",
      "text/plain": [
       "<Figure size 432x288 with 1 Axes>"
      ]
     },
     "metadata": {},
     "output_type": "display_data"
    }
   ],
   "source": [
    "N = np.arange(0, max_epochs)\n",
    "plt.style.use(\"ggplot\")\n",
    "plt.figure()\n",
    "plt.plot(N, H.history[\"loss\"], label=\"train_loss\")\n",
    "plt.plot(N, H.history[\"val_loss\"], label=\"val_loss\")\n",
    "#plt.plot(N, H.history[\"accuracy\"], label=\"train_acc\")\n",
    "#plt.plot(N, H.history[\"val_accuracy\"], label=\"val_acc\")\n",
    "plt.xlabel(\"Epoch #\")\n",
    "plt.legend()\n",
    "plt.show()"
   ]
  },
  {
   "cell_type": "markdown",
   "metadata": {},
   "source": [
    "<h3>7. Evaluate the Model</h3>"
   ]
  },
  {
   "cell_type": "code",
   "execution_count": null,
   "metadata": {},
   "outputs": [
    {
     "name": "stdout",
     "output_type": "stream",
     "text": [
      "              precision    recall  f1-score   support\n",
      "\n",
      "  jambu_biji       0.58      0.92      0.71        12\n",
      "      pandan       0.75      0.27      0.40        11\n",
      "\n",
      "    accuracy                           0.61        23\n",
      "   macro avg       0.66      0.59      0.55        23\n",
      "weighted avg       0.66      0.61      0.56        23\n",
      "\n"
     ]
    },
    {
     "name": "stderr",
     "output_type": "stream",
     "text": [
      "C:\\Users\\Asus\\AppData\\Local\\Temp/ipykernel_13156/954476436.py:3: DeprecationWarning: `np.int` is a deprecated alias for the builtin `int`. To silence this warning, use `int` by itself. Doing this will not modify any behavior and is safe. When replacing `np.int`, you may wish to use e.g. `np.int64` or `np.int32` to specify the precision. If you wish to review your current use, check the release note link for additional information.\n",
      "Deprecated in NumPy 1.20; for more details and guidance: https://numpy.org/devdocs/release/1.20.0-notes.html#deprecations\n",
      "  target = (predictions > 0.5).astype(np.int)\n"
     ]
    }
   ],
   "source": [
    "# menghitung nilai akurasi model terhadap data test\n",
    "predictions = model.predict(x_test, batch_size=32)\n",
    "target = (predictions > 0.5).astype(np.int)\n",
    "print(classification_report(y_test, target, target_names=label_list))"
   ]
  },
  {
   "cell_type": "code",
   "execution_count": null,
   "metadata": {},
   "outputs": [
    {
     "name": "stdout",
     "output_type": "stream",
     "text": [
      "[[0.05232853]]\n"
     ]
    }
   ],
   "source": [
    "# uji model menggunakan image lain\n",
    "queryPath = imagePaths+'query_jambu_biji.jpg'\n",
    "query = cv2.imread(queryPath)\n",
    "output = query.copy()\n",
    "query = cv2.resize(query, (32, 32))\n",
    "q = []\n",
    "q.append(query)\n",
    "q = np.array(q, dtype='float') / 255.0\n",
    "\n",
    "q_pred = model.predict(q)\n",
    "print(q_pred)"
   ]
  },
  {
   "cell_type": "code",
   "execution_count": null,
   "metadata": {},
   "outputs": [
    {
     "ename": "error",
     "evalue": "OpenCV(4.5.4-dev) D:\\a\\opencv-python\\opencv-python\\opencv\\modules\\highgui\\src\\window_w32.cpp:1261: error: (-27:Null pointer) NULL window: 'Output' in function 'cvDestroyWindow'\n",
     "output_type": "error",
     "traceback": [
      "\u001b[1;31m---------------------------------------------------------------------------\u001b[0m",
      "\u001b[1;31merror\u001b[0m                                     Traceback (most recent call last)",
      "\u001b[1;32m~\\AppData\\Local\\Temp/ipykernel_13156/4204632174.py\u001b[0m in \u001b[0;36m<module>\u001b[1;34m\u001b[0m\n\u001b[0;32m      9\u001b[0m \u001b[0mcv2\u001b[0m\u001b[1;33m.\u001b[0m\u001b[0mimshow\u001b[0m\u001b[1;33m(\u001b[0m\u001b[1;34m'Output'\u001b[0m\u001b[1;33m,\u001b[0m \u001b[0moutput\u001b[0m\u001b[1;33m)\u001b[0m\u001b[1;33m\u001b[0m\u001b[1;33m\u001b[0m\u001b[0m\n\u001b[0;32m     10\u001b[0m \u001b[0mcv2\u001b[0m\u001b[1;33m.\u001b[0m\u001b[0mwaitKey\u001b[0m\u001b[1;33m(\u001b[0m\u001b[1;33m)\u001b[0m \u001b[1;31m# image tidak akan diclose,sebelum user menekan sembarang tombol\u001b[0m\u001b[1;33m\u001b[0m\u001b[1;33m\u001b[0m\u001b[0m\n\u001b[1;32m---> 11\u001b[1;33m \u001b[0mcv2\u001b[0m\u001b[1;33m.\u001b[0m\u001b[0mdestroyWindow\u001b[0m\u001b[1;33m(\u001b[0m\u001b[1;34m'Output'\u001b[0m\u001b[1;33m)\u001b[0m \u001b[1;31m# image akan diclose\u001b[0m\u001b[1;33m\u001b[0m\u001b[1;33m\u001b[0m\u001b[0m\n\u001b[0m",
      "\u001b[1;31merror\u001b[0m: OpenCV(4.5.4-dev) D:\\a\\opencv-python\\opencv-python\\opencv\\modules\\highgui\\src\\window_w32.cpp:1261: error: (-27:Null pointer) NULL window: 'Output' in function 'cvDestroyWindow'\n"
     ]
    }
   ],
   "source": [
    "if q_pred<=0.5 :\n",
    "    target = \"Jambu Biji\"\n",
    "else :\n",
    "    target = \"Pandan\"\n",
    "text = \"{}\".format(target)\n",
    "cv2.putText(output, text, (10, 30), cv2.FONT_HERSHEY_SIMPLEX, 0.7, (0, 0, 255), 2)\n",
    " \n",
    "# menampilkan output image\n",
    "cv2.imshow('Output', output)\n",
    "cv2.waitKey() # image tidak akan diclose,sebelum user menekan sembarang tombol\n",
    "cv2.destroyWindow('Output') # image akan diclose"
   ]
  }
 ],
 "metadata": {
  "kernelspec": {
   "display_name": "Python 3",
   "language": "python",
   "name": "python3"
  },
  "language_info": {
   "codemirror_mode": {
    "name": "ipython",
    "version": 3
   },
   "file_extension": ".py",
   "mimetype": "text/x-python",
   "name": "python",
   "nbconvert_exporter": "python",
   "pygments_lexer": "ipython3",
   "version": "3.9.6"
  }
 },
 "nbformat": 4,
 "nbformat_minor": 4
}
