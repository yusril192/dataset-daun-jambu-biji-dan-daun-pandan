{
 "cells": [
  {
   "cell_type": "markdown",
   "metadata": {},
   "source": [
    "<h3>1. Import module yang dibutuhkan</h3>"
   ]
  },
  {
   "cell_type": "code",
   "execution_count": 35,
   "metadata": {},
   "outputs": [],
   "source": [
    "from sklearn.model_selection import train_test_split\n",
    "from sklearn.preprocessing import LabelEncoder\n",
    "from sklearn.metrics import classification_report\n",
    "from tensorflow.keras.models import Sequential\n",
    "from tensorflow.keras.layers import InputLayer, Flatten, Dense, Conv2D, MaxPool2D, Dropout\n",
    "from tensorflow.keras.optimizers import Adam\n",
    "import numpy as np\n",
    "import cv2\n",
    "import glob\n",
    "import matplotlib.pyplot as plt"
   ]
  },
  {
   "cell_type": "markdown",
   "metadata": {},
   "source": [
    "<h3>2. Load Dataset</h3>"
   ]
  },
  {
   "cell_type": "code",
   "execution_count": 36,
   "metadata": {},
   "outputs": [],
   "source": [
    "imagePaths = 'dataset\\\\daun_jp\\\\'\n",
    "label_list = ['jambu_biji', 'pandan']\n",
    "data = []\n",
    "labels = []"
   ]
  },
  {
   "cell_type": "code",
   "execution_count": 37,
   "metadata": {},
   "outputs": [],
   "source": [
    "for label in label_list:\n",
    "    for imagePath in glob.glob(imagePaths+label+'\\\\*.jpg'):\n",
    "        #print(imagePath)\n",
    "        image = cv2.imread(imagePath)\n",
    "        image = cv2.resize(image, (32, 32))\n",
    "        data.append(image)\n",
    "        labels.append(label)"
   ]
  },
  {
   "cell_type": "code",
   "execution_count": 38,
   "metadata": {},
   "outputs": [
    {
     "data": {
      "text/plain": [
       "(115, 32, 32, 3)"
      ]
     },
     "execution_count": 38,
     "metadata": {},
     "output_type": "execute_result"
    }
   ],
   "source": [
    "np.array(data).shape"
   ]
  },
  {
   "cell_type": "markdown",
   "metadata": {},
   "source": [
    "<h3>3. Data Preprocessing</h3>"
   ]
  },
  {
   "cell_type": "code",
   "execution_count": 39,
   "metadata": {},
   "outputs": [],
   "source": [
    "# ubah type data dari list menjadi array\n",
    "# ubah nilai dari tiap pixel menjadi range [0..1]\n",
    "data = np.array(data, dtype='float') / 255.0\n",
    "labels = np.array(labels)"
   ]
  },
  {
   "cell_type": "code",
   "execution_count": 40,
   "metadata": {},
   "outputs": [
    {
     "name": "stdout",
     "output_type": "stream",
     "text": [
      "['jambu_biji' 'jambu_biji' 'jambu_biji' 'jambu_biji' 'jambu_biji'\n",
      " 'jambu_biji' 'jambu_biji' 'jambu_biji' 'jambu_biji' 'jambu_biji'\n",
      " 'jambu_biji' 'jambu_biji' 'jambu_biji' 'jambu_biji' 'jambu_biji'\n",
      " 'jambu_biji' 'jambu_biji' 'jambu_biji' 'jambu_biji' 'jambu_biji'\n",
      " 'jambu_biji' 'jambu_biji' 'jambu_biji' 'jambu_biji' 'jambu_biji'\n",
      " 'jambu_biji' 'jambu_biji' 'jambu_biji' 'jambu_biji' 'jambu_biji'\n",
      " 'jambu_biji' 'jambu_biji' 'jambu_biji' 'jambu_biji' 'jambu_biji'\n",
      " 'jambu_biji' 'jambu_biji' 'jambu_biji' 'jambu_biji' 'jambu_biji'\n",
      " 'jambu_biji' 'jambu_biji' 'jambu_biji' 'jambu_biji' 'jambu_biji'\n",
      " 'jambu_biji' 'jambu_biji' 'jambu_biji' 'jambu_biji' 'jambu_biji'\n",
      " 'jambu_biji' 'jambu_biji' 'jambu_biji' 'jambu_biji' 'jambu_biji'\n",
      " 'jambu_biji' 'jambu_biji' 'jambu_biji' 'jambu_biji' 'jambu_biji'\n",
      " 'jambu_biji' 'jambu_biji' 'jambu_biji' 'pandan' 'pandan' 'pandan'\n",
      " 'pandan' 'pandan' 'pandan' 'pandan' 'pandan' 'pandan' 'pandan' 'pandan'\n",
      " 'pandan' 'pandan' 'pandan' 'pandan' 'pandan' 'pandan' 'pandan' 'pandan'\n",
      " 'pandan' 'pandan' 'pandan' 'pandan' 'pandan' 'pandan' 'pandan' 'pandan'\n",
      " 'pandan' 'pandan' 'pandan' 'pandan' 'pandan' 'pandan' 'pandan' 'pandan'\n",
      " 'pandan' 'pandan' 'pandan' 'pandan' 'pandan' 'pandan' 'pandan' 'pandan'\n",
      " 'pandan' 'pandan' 'pandan' 'pandan' 'pandan' 'pandan' 'pandan' 'pandan'\n",
      " 'pandan']\n"
     ]
    }
   ],
   "source": [
    "print(labels)"
   ]
  },
  {
   "cell_type": "code",
   "execution_count": 41,
   "metadata": {},
   "outputs": [
    {
     "name": "stdout",
     "output_type": "stream",
     "text": [
      "[0 0 0 0 0 0 0 0 0 0 0 0 0 0 0 0 0 0 0 0 0 0 0 0 0 0 0 0 0 0 0 0 0 0 0 0 0\n",
      " 0 0 0 0 0 0 0 0 0 0 0 0 0 0 0 0 0 0 0 0 0 0 0 0 0 0 1 1 1 1 1 1 1 1 1 1 1\n",
      " 1 1 1 1 1 1 1 1 1 1 1 1 1 1 1 1 1 1 1 1 1 1 1 1 1 1 1 1 1 1 1 1 1 1 1 1 1\n",
      " 1 1 1 1]\n"
     ]
    }
   ],
   "source": [
    "# ubah nilai dari labels menjadi binary\n",
    "lb = LabelEncoder()\n",
    "labels = lb.fit_transform(labels)\n",
    "print(labels)"
   ]
  },
  {
   "cell_type": "markdown",
   "metadata": {},
   "source": [
    "<h3>4. Split Dataset</h3>"
   ]
  },
  {
   "cell_type": "code",
   "execution_count": 42,
   "metadata": {},
   "outputs": [],
   "source": [
    "x_train, x_test, y_train, y_test = train_test_split(data, labels, test_size=0.2, random_state=42)"
   ]
  },
  {
   "cell_type": "code",
   "execution_count": 43,
   "metadata": {},
   "outputs": [
    {
     "name": "stdout",
     "output_type": "stream",
     "text": [
      "Ukuran data train = (92, 32, 32, 3)\n",
      "Ukuran data test = (23, 32, 32, 3)\n"
     ]
    }
   ],
   "source": [
    "print('Ukuran data train =', x_train.shape)\n",
    "print('Ukuran data test =', x_test.shape)"
   ]
  },
  {
   "cell_type": "markdown",
   "metadata": {},
   "source": [
    "<h3>5. Build CNN Architecture</h3>"
   ]
  },
  {
   "cell_type": "code",
   "execution_count": 44,
   "metadata": {},
   "outputs": [],
   "source": [
    "model = Sequential()\n",
    "# Extracted Feature Layer\n",
    "model.add(InputLayer(input_shape=[32,32,3]))\n",
    "model.add(Conv2D(filters=32, kernel_size=2, strides=1, padding='same', activation='relu'))\n",
    "model.add(MaxPool2D(pool_size=2, padding='same'))\n",
    "model.add(Conv2D(filters=50, kernel_size=2, strides=1, padding='same', activation='relu'))\n",
    "model.add(MaxPool2D(pool_size=2, padding='same'))\n",
    "model.add(Dropout(0.25))\n",
    "model.add(Flatten())\n",
    "# Fully Connected Layer\n",
    "model.add(Dense(512, activation='relu'))\n",
    "model.add(Dropout(0.5))\n",
    "model.add(Dense(1, activation='sigmoid'))"
   ]
  },
  {
   "cell_type": "code",
   "execution_count": 45,
   "metadata": {},
   "outputs": [
    {
     "name": "stdout",
     "output_type": "stream",
     "text": [
      "Model: \"sequential_2\"\n",
      "_________________________________________________________________\n",
      " Layer (type)                Output Shape              Param #   \n",
      "=================================================================\n",
      " conv2d_4 (Conv2D)           (None, 32, 32, 32)        416       \n",
      "                                                                 \n",
      " max_pooling2d_4 (MaxPooling  (None, 16, 16, 32)       0         \n",
      " 2D)                                                             \n",
      "                                                                 \n",
      " conv2d_5 (Conv2D)           (None, 16, 16, 50)        6450      \n",
      "                                                                 \n",
      " max_pooling2d_5 (MaxPooling  (None, 8, 8, 50)         0         \n",
      " 2D)                                                             \n",
      "                                                                 \n",
      " dropout_4 (Dropout)         (None, 8, 8, 50)          0         \n",
      "                                                                 \n",
      " flatten_2 (Flatten)         (None, 3200)              0         \n",
      "                                                                 \n",
      " dense_4 (Dense)             (None, 512)               1638912   \n",
      "                                                                 \n",
      " dropout_5 (Dropout)         (None, 512)               0         \n",
      "                                                                 \n",
      " dense_5 (Dense)             (None, 1)                 513       \n",
      "                                                                 \n",
      "=================================================================\n",
      "Total params: 1,646,291\n",
      "Trainable params: 1,646,291\n",
      "Non-trainable params: 0\n",
      "_________________________________________________________________\n"
     ]
    }
   ],
   "source": [
    "model.summary()"
   ]
  },
  {
   "cell_type": "code",
   "execution_count": 46,
   "metadata": {},
   "outputs": [],
   "source": [
    "# tentukan hyperparameter\n",
    "lr = 0.001\n",
    "max_epochs = 100\n",
    "opt_funct = Adam(learning_rate=lr)"
   ]
  },
  {
   "cell_type": "code",
   "execution_count": 47,
   "metadata": {},
   "outputs": [],
   "source": [
    "# compile arsitektur yang telah dibuat\n",
    "model.compile(loss = 'binary_crossentropy', \n",
    "              optimizer = opt_funct, \n",
    "              metrics = ['accuracy'])"
   ]
  },
  {
   "cell_type": "markdown",
   "metadata": {},
   "source": [
    "<h3>6. Train Model</h3>"
   ]
  },
  {
   "cell_type": "code",
   "execution_count": 48,
   "metadata": {},
   "outputs": [
    {
     "name": "stdout",
     "output_type": "stream",
     "text": [
      "Epoch 1/100\n",
      "3/3 [==============================] - 1s 101ms/step - loss: 0.6982 - accuracy: 0.5435 - val_loss: 0.6700 - val_accuracy: 0.5652\n",
      "Epoch 2/100\n",
      "3/3 [==============================] - 0s 57ms/step - loss: 0.6697 - accuracy: 0.5543 - val_loss: 0.6357 - val_accuracy: 0.6087\n",
      "Epoch 3/100\n",
      "3/3 [==============================] - 0s 31ms/step - loss: 0.5807 - accuracy: 0.7174 - val_loss: 0.5863 - val_accuracy: 0.8696\n",
      "Epoch 4/100\n",
      "3/3 [==============================] - 0s 31ms/step - loss: 0.6144 - accuracy: 0.6522 - val_loss: 0.5854 - val_accuracy: 0.6087\n",
      "Epoch 5/100\n",
      "3/3 [==============================] - 0s 28ms/step - loss: 0.5684 - accuracy: 0.6739 - val_loss: 0.5427 - val_accuracy: 0.7826\n",
      "Epoch 6/100\n",
      "3/3 [==============================] - 0s 23ms/step - loss: 0.4756 - accuracy: 0.8370 - val_loss: 0.5694 - val_accuracy: 0.6522\n",
      "Epoch 7/100\n",
      "3/3 [==============================] - 0s 34ms/step - loss: 0.4264 - accuracy: 0.8152 - val_loss: 0.4796 - val_accuracy: 0.8261\n",
      "Epoch 8/100\n",
      "3/3 [==============================] - 0s 40ms/step - loss: 0.3733 - accuracy: 0.9022 - val_loss: 0.4515 - val_accuracy: 0.8261\n",
      "Epoch 9/100\n",
      "3/3 [==============================] - 0s 55ms/step - loss: 0.3594 - accuracy: 0.8587 - val_loss: 0.4557 - val_accuracy: 0.7826\n",
      "Epoch 10/100\n",
      "3/3 [==============================] - 0s 32ms/step - loss: 0.2977 - accuracy: 0.8587 - val_loss: 0.4159 - val_accuracy: 0.7391\n",
      "Epoch 11/100\n",
      "3/3 [==============================] - 0s 29ms/step - loss: 0.2884 - accuracy: 0.9239 - val_loss: 0.4035 - val_accuracy: 0.7391\n",
      "Epoch 12/100\n",
      "3/3 [==============================] - 0s 26ms/step - loss: 0.2381 - accuracy: 0.9348 - val_loss: 0.3835 - val_accuracy: 0.8696\n",
      "Epoch 13/100\n",
      "3/3 [==============================] - 0s 29ms/step - loss: 0.2167 - accuracy: 0.9130 - val_loss: 0.3677 - val_accuracy: 0.8696\n",
      "Epoch 14/100\n",
      "3/3 [==============================] - 0s 28ms/step - loss: 0.2572 - accuracy: 0.9130 - val_loss: 0.3475 - val_accuracy: 0.8696\n",
      "Epoch 15/100\n",
      "3/3 [==============================] - 0s 36ms/step - loss: 0.2017 - accuracy: 0.9239 - val_loss: 0.3596 - val_accuracy: 0.8696\n",
      "Epoch 16/100\n",
      "3/3 [==============================] - 0s 31ms/step - loss: 0.1858 - accuracy: 0.9348 - val_loss: 0.3727 - val_accuracy: 0.8261\n",
      "Epoch 17/100\n",
      "3/3 [==============================] - 0s 23ms/step - loss: 0.1831 - accuracy: 0.9239 - val_loss: 0.3457 - val_accuracy: 0.8261\n",
      "Epoch 18/100\n",
      "3/3 [==============================] - 0s 23ms/step - loss: 0.1477 - accuracy: 0.9457 - val_loss: 0.2979 - val_accuracy: 0.8696\n",
      "Epoch 19/100\n",
      "3/3 [==============================] - 0s 37ms/step - loss: 0.1259 - accuracy: 0.9565 - val_loss: 0.2898 - val_accuracy: 0.8696\n",
      "Epoch 20/100\n",
      "3/3 [==============================] - 0s 48ms/step - loss: 0.1175 - accuracy: 0.9891 - val_loss: 0.2659 - val_accuracy: 0.8696\n",
      "Epoch 21/100\n",
      "3/3 [==============================] - 0s 30ms/step - loss: 0.0970 - accuracy: 0.9783 - val_loss: 0.2893 - val_accuracy: 0.8261\n",
      "Epoch 22/100\n",
      "3/3 [==============================] - 0s 23ms/step - loss: 0.1060 - accuracy: 0.9674 - val_loss: 0.2522 - val_accuracy: 0.8696\n",
      "Epoch 23/100\n",
      "3/3 [==============================] - 0s 31ms/step - loss: 0.1300 - accuracy: 0.9457 - val_loss: 0.2592 - val_accuracy: 0.9130\n",
      "Epoch 24/100\n",
      "3/3 [==============================] - 0s 37ms/step - loss: 0.1149 - accuracy: 0.9457 - val_loss: 0.3205 - val_accuracy: 0.8261\n",
      "Epoch 25/100\n",
      "3/3 [==============================] - 0s 32ms/step - loss: 0.1067 - accuracy: 0.9674 - val_loss: 0.2665 - val_accuracy: 0.8696\n",
      "Epoch 26/100\n",
      "3/3 [==============================] - 0s 36ms/step - loss: 0.0870 - accuracy: 0.9674 - val_loss: 0.2710 - val_accuracy: 0.8696\n",
      "Epoch 27/100\n",
      "3/3 [==============================] - 0s 37ms/step - loss: 0.0676 - accuracy: 1.0000 - val_loss: 0.3509 - val_accuracy: 0.8261\n",
      "Epoch 28/100\n",
      "3/3 [==============================] - 0s 45ms/step - loss: 0.0688 - accuracy: 1.0000 - val_loss: 0.2835 - val_accuracy: 0.8696\n",
      "Epoch 29/100\n",
      "3/3 [==============================] - 0s 48ms/step - loss: 0.0646 - accuracy: 0.9783 - val_loss: 0.2791 - val_accuracy: 0.8696\n",
      "Epoch 30/100\n",
      "3/3 [==============================] - 0s 50ms/step - loss: 0.0410 - accuracy: 1.0000 - val_loss: 0.3060 - val_accuracy: 0.8696\n",
      "Epoch 31/100\n",
      "3/3 [==============================] - 0s 50ms/step - loss: 0.0372 - accuracy: 1.0000 - val_loss: 0.3052 - val_accuracy: 0.8696\n",
      "Epoch 32/100\n",
      "3/3 [==============================] - 0s 50ms/step - loss: 0.0350 - accuracy: 1.0000 - val_loss: 0.2655 - val_accuracy: 0.9130\n",
      "Epoch 33/100\n",
      "3/3 [==============================] - 0s 51ms/step - loss: 0.0383 - accuracy: 1.0000 - val_loss: 0.2769 - val_accuracy: 0.9130\n",
      "Epoch 34/100\n",
      "3/3 [==============================] - 0s 50ms/step - loss: 0.0397 - accuracy: 0.9891 - val_loss: 0.3498 - val_accuracy: 0.8696\n",
      "Epoch 35/100\n",
      "3/3 [==============================] - 0s 44ms/step - loss: 0.0286 - accuracy: 1.0000 - val_loss: 0.2654 - val_accuracy: 0.9130\n",
      "Epoch 36/100\n",
      "3/3 [==============================] - 0s 56ms/step - loss: 0.0269 - accuracy: 1.0000 - val_loss: 0.2819 - val_accuracy: 0.8696\n",
      "Epoch 37/100\n",
      "3/3 [==============================] - 0s 47ms/step - loss: 0.0231 - accuracy: 1.0000 - val_loss: 0.2533 - val_accuracy: 0.9130\n",
      "Epoch 38/100\n",
      "3/3 [==============================] - 0s 47ms/step - loss: 0.0186 - accuracy: 1.0000 - val_loss: 0.2470 - val_accuracy: 0.9130\n",
      "Epoch 39/100\n",
      "3/3 [==============================] - 0s 51ms/step - loss: 0.0167 - accuracy: 1.0000 - val_loss: 0.2546 - val_accuracy: 0.8696\n",
      "Epoch 40/100\n",
      "3/3 [==============================] - 0s 46ms/step - loss: 0.0272 - accuracy: 1.0000 - val_loss: 0.2399 - val_accuracy: 0.8696\n",
      "Epoch 41/100\n",
      "3/3 [==============================] - 0s 47ms/step - loss: 0.0177 - accuracy: 1.0000 - val_loss: 0.3712 - val_accuracy: 0.9130\n",
      "Epoch 42/100\n",
      "3/3 [==============================] - 0s 42ms/step - loss: 0.0217 - accuracy: 1.0000 - val_loss: 0.2591 - val_accuracy: 0.9130\n",
      "Epoch 43/100\n",
      "3/3 [==============================] - 0s 41ms/step - loss: 0.0126 - accuracy: 1.0000 - val_loss: 0.2912 - val_accuracy: 0.8696\n",
      "Epoch 44/100\n",
      "3/3 [==============================] - 0s 40ms/step - loss: 0.0256 - accuracy: 0.9891 - val_loss: 0.2983 - val_accuracy: 0.8696\n",
      "Epoch 45/100\n",
      "3/3 [==============================] - 0s 41ms/step - loss: 0.0119 - accuracy: 1.0000 - val_loss: 0.3214 - val_accuracy: 0.8696\n",
      "Epoch 46/100\n",
      "3/3 [==============================] - 0s 52ms/step - loss: 0.0121 - accuracy: 1.0000 - val_loss: 0.2945 - val_accuracy: 0.8696\n",
      "Epoch 47/100\n",
      "3/3 [==============================] - 0s 50ms/step - loss: 0.0094 - accuracy: 1.0000 - val_loss: 0.2857 - val_accuracy: 0.8696\n",
      "Epoch 48/100\n",
      "3/3 [==============================] - 0s 47ms/step - loss: 0.0082 - accuracy: 1.0000 - val_loss: 0.2834 - val_accuracy: 0.8696\n",
      "Epoch 49/100\n",
      "3/3 [==============================] - 0s 50ms/step - loss: 0.0083 - accuracy: 1.0000 - val_loss: 0.2808 - val_accuracy: 0.8696\n",
      "Epoch 50/100\n",
      "3/3 [==============================] - 0s 49ms/step - loss: 0.0089 - accuracy: 1.0000 - val_loss: 0.2863 - val_accuracy: 0.8696\n",
      "Epoch 51/100\n",
      "3/3 [==============================] - 0s 49ms/step - loss: 0.0045 - accuracy: 1.0000 - val_loss: 0.2670 - val_accuracy: 0.8696\n",
      "Epoch 52/100\n",
      "3/3 [==============================] - 0s 47ms/step - loss: 0.0081 - accuracy: 1.0000 - val_loss: 0.2669 - val_accuracy: 0.8696\n",
      "Epoch 53/100\n",
      "3/3 [==============================] - 0s 43ms/step - loss: 0.0093 - accuracy: 1.0000 - val_loss: 0.2588 - val_accuracy: 0.8696\n",
      "Epoch 54/100\n",
      "3/3 [==============================] - 0s 46ms/step - loss: 0.0033 - accuracy: 1.0000 - val_loss: 0.2565 - val_accuracy: 0.8696\n",
      "Epoch 55/100\n",
      "3/3 [==============================] - 0s 46ms/step - loss: 0.0046 - accuracy: 1.0000 - val_loss: 0.2618 - val_accuracy: 0.8696\n",
      "Epoch 56/100\n",
      "3/3 [==============================] - 0s 45ms/step - loss: 0.0060 - accuracy: 1.0000 - val_loss: 0.2626 - val_accuracy: 0.8696\n",
      "Epoch 57/100\n",
      "3/3 [==============================] - 0s 46ms/step - loss: 0.0032 - accuracy: 1.0000 - val_loss: 0.2599 - val_accuracy: 0.8696\n",
      "Epoch 58/100\n",
      "3/3 [==============================] - 0s 47ms/step - loss: 0.0046 - accuracy: 1.0000 - val_loss: 0.2591 - val_accuracy: 0.8696\n",
      "Epoch 59/100\n",
      "3/3 [==============================] - 0s 48ms/step - loss: 0.0036 - accuracy: 1.0000 - val_loss: 0.2578 - val_accuracy: 0.8696\n",
      "Epoch 60/100\n",
      "3/3 [==============================] - 0s 50ms/step - loss: 0.0040 - accuracy: 1.0000 - val_loss: 0.2561 - val_accuracy: 0.8696\n",
      "Epoch 61/100\n",
      "3/3 [==============================] - 0s 51ms/step - loss: 0.0025 - accuracy: 1.0000 - val_loss: 0.2583 - val_accuracy: 0.8696\n",
      "Epoch 62/100\n",
      "3/3 [==============================] - 0s 43ms/step - loss: 0.0035 - accuracy: 1.0000 - val_loss: 0.2601 - val_accuracy: 0.8696\n",
      "Epoch 63/100\n",
      "3/3 [==============================] - 0s 52ms/step - loss: 0.0024 - accuracy: 1.0000 - val_loss: 0.2623 - val_accuracy: 0.8696\n",
      "Epoch 64/100\n",
      "3/3 [==============================] - 0s 52ms/step - loss: 0.0020 - accuracy: 1.0000 - val_loss: 0.2633 - val_accuracy: 0.8696\n",
      "Epoch 65/100\n",
      "3/3 [==============================] - 0s 47ms/step - loss: 0.0039 - accuracy: 1.0000 - val_loss: 0.2768 - val_accuracy: 0.8696\n",
      "Epoch 66/100\n",
      "3/3 [==============================] - 0s 48ms/step - loss: 0.0056 - accuracy: 1.0000 - val_loss: 0.2967 - val_accuracy: 0.8696\n",
      "Epoch 67/100\n",
      "3/3 [==============================] - 0s 64ms/step - loss: 0.0021 - accuracy: 1.0000 - val_loss: 0.2725 - val_accuracy: 0.9130\n",
      "Epoch 68/100\n",
      "3/3 [==============================] - 0s 69ms/step - loss: 0.0017 - accuracy: 1.0000 - val_loss: 0.2701 - val_accuracy: 0.8696\n",
      "Epoch 69/100\n",
      "3/3 [==============================] - 0s 49ms/step - loss: 0.0036 - accuracy: 1.0000 - val_loss: 0.2736 - val_accuracy: 0.8696\n",
      "Epoch 70/100\n",
      "3/3 [==============================] - 0s 73ms/step - loss: 0.0016 - accuracy: 1.0000 - val_loss: 0.2726 - val_accuracy: 0.9130\n",
      "Epoch 71/100\n",
      "3/3 [==============================] - 0s 75ms/step - loss: 0.0021 - accuracy: 1.0000 - val_loss: 0.2794 - val_accuracy: 0.8696\n",
      "Epoch 72/100\n",
      "3/3 [==============================] - 0s 54ms/step - loss: 0.0024 - accuracy: 1.0000 - val_loss: 0.2710 - val_accuracy: 0.9130\n",
      "Epoch 73/100\n",
      "3/3 [==============================] - 0s 48ms/step - loss: 0.0028 - accuracy: 1.0000 - val_loss: 0.2691 - val_accuracy: 0.8696\n",
      "Epoch 74/100\n",
      "3/3 [==============================] - 0s 67ms/step - loss: 0.0023 - accuracy: 1.0000 - val_loss: 0.2574 - val_accuracy: 0.8696\n",
      "Epoch 75/100\n",
      "3/3 [==============================] - 0s 50ms/step - loss: 0.0025 - accuracy: 1.0000 - val_loss: 0.2547 - val_accuracy: 0.8696\n",
      "Epoch 76/100\n",
      "3/3 [==============================] - 0s 52ms/step - loss: 0.0047 - accuracy: 1.0000 - val_loss: 0.2848 - val_accuracy: 0.9130\n",
      "Epoch 77/100\n",
      "3/3 [==============================] - 0s 49ms/step - loss: 0.0056 - accuracy: 1.0000 - val_loss: 0.3349 - val_accuracy: 0.9130\n",
      "Epoch 78/100\n",
      "3/3 [==============================] - 0s 57ms/step - loss: 0.0022 - accuracy: 1.0000 - val_loss: 0.2806 - val_accuracy: 0.8696\n",
      "Epoch 79/100\n",
      "3/3 [==============================] - 0s 57ms/step - loss: 0.0021 - accuracy: 1.0000 - val_loss: 0.2879 - val_accuracy: 0.8696\n",
      "Epoch 80/100\n",
      "3/3 [==============================] - 0s 50ms/step - loss: 0.0022 - accuracy: 1.0000 - val_loss: 0.3151 - val_accuracy: 0.8696\n",
      "Epoch 81/100\n",
      "3/3 [==============================] - 0s 49ms/step - loss: 0.0020 - accuracy: 1.0000 - val_loss: 0.2944 - val_accuracy: 0.8696\n",
      "Epoch 82/100\n",
      "3/3 [==============================] - 0s 46ms/step - loss: 0.0022 - accuracy: 1.0000 - val_loss: 0.2713 - val_accuracy: 0.9130\n",
      "Epoch 83/100\n",
      "3/3 [==============================] - 0s 53ms/step - loss: 0.0012 - accuracy: 1.0000 - val_loss: 0.2789 - val_accuracy: 0.8696\n",
      "Epoch 84/100\n",
      "3/3 [==============================] - 0s 54ms/step - loss: 0.0016 - accuracy: 1.0000 - val_loss: 0.2921 - val_accuracy: 0.8696\n",
      "Epoch 85/100\n",
      "3/3 [==============================] - 0s 49ms/step - loss: 0.0015 - accuracy: 1.0000 - val_loss: 0.2864 - val_accuracy: 0.8696\n",
      "Epoch 86/100\n",
      "3/3 [==============================] - 0s 52ms/step - loss: 0.0019 - accuracy: 1.0000 - val_loss: 0.2658 - val_accuracy: 0.9130\n",
      "Epoch 87/100\n",
      "3/3 [==============================] - 0s 54ms/step - loss: 0.0015 - accuracy: 1.0000 - val_loss: 0.2629 - val_accuracy: 0.8696\n",
      "Epoch 88/100\n",
      "3/3 [==============================] - 0s 58ms/step - loss: 7.5367e-04 - accuracy: 1.0000 - val_loss: 0.2617 - val_accuracy: 0.8696\n",
      "Epoch 89/100\n",
      "3/3 [==============================] - 0s 55ms/step - loss: 9.2425e-04 - accuracy: 1.0000 - val_loss: 0.2573 - val_accuracy: 0.8696\n",
      "Epoch 90/100\n",
      "3/3 [==============================] - 0s 56ms/step - loss: 0.0014 - accuracy: 1.0000 - val_loss: 0.2583 - val_accuracy: 0.8696\n",
      "Epoch 91/100\n",
      "3/3 [==============================] - 0s 56ms/step - loss: 0.0013 - accuracy: 1.0000 - val_loss: 0.2689 - val_accuracy: 0.8696\n",
      "Epoch 92/100\n",
      "3/3 [==============================] - 0s 51ms/step - loss: 0.0013 - accuracy: 1.0000 - val_loss: 0.2742 - val_accuracy: 0.8696\n",
      "Epoch 93/100\n",
      "3/3 [==============================] - 0s 52ms/step - loss: 8.5916e-04 - accuracy: 1.0000 - val_loss: 0.2670 - val_accuracy: 0.9130\n",
      "Epoch 94/100\n",
      "3/3 [==============================] - 0s 58ms/step - loss: 5.3342e-04 - accuracy: 1.0000 - val_loss: 0.2688 - val_accuracy: 0.8696\n",
      "Epoch 95/100\n",
      "3/3 [==============================] - 0s 54ms/step - loss: 8.7008e-04 - accuracy: 1.0000 - val_loss: 0.2717 - val_accuracy: 0.8696\n",
      "Epoch 96/100\n",
      "3/3 [==============================] - 0s 56ms/step - loss: 0.0023 - accuracy: 1.0000 - val_loss: 0.2806 - val_accuracy: 0.8696\n",
      "Epoch 97/100\n",
      "3/3 [==============================] - 0s 53ms/step - loss: 0.0022 - accuracy: 1.0000 - val_loss: 0.2691 - val_accuracy: 0.9130\n",
      "Epoch 98/100\n",
      "3/3 [==============================] - 0s 50ms/step - loss: 6.7790e-04 - accuracy: 1.0000 - val_loss: 0.2711 - val_accuracy: 0.8696\n",
      "Epoch 99/100\n",
      "3/3 [==============================] - 0s 54ms/step - loss: 0.0011 - accuracy: 1.0000 - val_loss: 0.2779 - val_accuracy: 0.9130\n",
      "Epoch 100/100\n",
      "3/3 [==============================] - 0s 52ms/step - loss: 0.0012 - accuracy: 1.0000 - val_loss: 0.2626 - val_accuracy: 0.8696\n"
     ]
    }
   ],
   "source": [
    "H = model.fit(x_train, y_train, validation_data=(x_test, y_test), \n",
    "          epochs=max_epochs, batch_size=32)"
   ]
  },
  {
   "cell_type": "code",
   "execution_count": 49,
   "metadata": {},
   "outputs": [
    {
     "data": {
      "image/png": "[encoded data removed]",
      "text/plain": [
       "<Figure size 432x288 with 1 Axes>"
      ]
     },
     "metadata": {},
     "output_type": "display_data"
    }
   ],
   "source": [
    "N = np.arange(0, max_epochs)\n",
    "plt.style.use(\"ggplot\")\n",
    "plt.figure()\n",
    "plt.plot(N, H.history[\"loss\"], label=\"train_loss\")\n",
    "plt.plot(N, H.history[\"val_loss\"], label=\"val_loss\")\n",
    "#plt.plot(N, H.history[\"accuracy\"], label=\"train_acc\")\n",
    "#plt.plot(N, H.history[\"val_accuracy\"], label=\"val_acc\")\n",
    "plt.xlabel(\"Epoch #\")\n",
    "plt.legend()\n",
    "plt.show()"
   ]
  },
  {
   "cell_type": "markdown",
   "metadata": {},
   "source": [
    "<h3>7. Evaluate the Model</h3>"
   ]
  },
  {
   "cell_type": "code",
   "execution_count": 50,
   "metadata": {},
   "outputs": [
    {
     "name": "stdout",
     "output_type": "stream",
     "text": [
      "              precision    recall  f1-score   support\n",
      "\n",
      "  jambu_biji       0.91      0.83      0.87        12\n",
      "      pandan       0.83      0.91      0.87        11\n",
      "\n",
      "    accuracy                           0.87        23\n",
      "   macro avg       0.87      0.87      0.87        23\n",
      "weighted avg       0.87      0.87      0.87        23\n",
      "\n"
     ]
    },
    {
     "name": "stderr",
     "output_type": "stream",
     "text": [
      "C:\\Users\\Asus\\AppData\\Local\\Temp/ipykernel_14488/954476436.py:3: DeprecationWarning: `np.int` is a deprecated alias for the builtin `int`. To silence this warning, use `int` by itself. Doing this will not modify any behavior and is safe. When replacing `np.int`, you may wish to use e.g. `np.int64` or `np.int32` to specify the precision. If you wish to review your current use, check the release note link for additional information.\n",
      "Deprecated in NumPy 1.20; for more details and guidance: https://numpy.org/devdocs/release/1.20.0-notes.html#deprecations\n",
      "  target = (predictions > 0.5).astype(np.int)\n"
     ]
    }
   ],
   "source": [
    "# menghitung nilai akurasi model terhadap data test\n",
    "predictions = model.predict(x_test, batch_size=32)\n",
    "target = (predictions > 0.5).astype(np.int)\n",
    "print(classification_report(y_test, target, target_names=label_list))"
   ]
  },
  {
   "cell_type": "code",
   "execution_count": 51,
   "metadata": {},
   "outputs": [
    {
     "name": "stdout",
     "output_type": "stream",
     "text": [
      "[[1.3000229e-05]]\n"
     ]
    }
   ],
   "source": [
    "# uji model menggunakan image lain\n",
    "queryPath = imagePaths+'query_jambu_biji.jpg'\n",
    "query = cv2.imread(queryPath)\n",
    "output = query.copy()\n",
    "query = cv2.resize(query, (32, 32))\n",
    "q = []\n",
    "q.append(query)\n",
    "q = np.array(q, dtype='float') / 255.0\n",
    "\n",
    "q_pred = model.predict(q)\n",
    "print(q_pred)"
   ]
  },
  {
   "cell_type": "code",
   "execution_count": 52,
   "metadata": {},
   "outputs": [
    {
     "ename": "error",
     "evalue": "OpenCV(4.5.4-dev) D:\\a\\opencv-python\\opencv-python\\opencv\\modules\\highgui\\src\\window_w32.cpp:1261: error: (-27:Null pointer) NULL window: 'Output' in function 'cvDestroyWindow'\n",
     "output_type": "error",
     "traceback": [
      "\u001b[1;31m---------------------------------------------------------------------------\u001b[0m",
      "\u001b[1;31merror\u001b[0m                                     Traceback (most recent call last)",
      "\u001b[1;32m~\\AppData\\Local\\Temp/ipykernel_14488/4204632174.py\u001b[0m in \u001b[0;36m<module>\u001b[1;34m\u001b[0m\n\u001b[0;32m      9\u001b[0m \u001b[0mcv2\u001b[0m\u001b[1;33m.\u001b[0m\u001b[0mimshow\u001b[0m\u001b[1;33m(\u001b[0m\u001b[1;34m'Output'\u001b[0m\u001b[1;33m,\u001b[0m \u001b[0moutput\u001b[0m\u001b[1;33m)\u001b[0m\u001b[1;33m\u001b[0m\u001b[1;33m\u001b[0m\u001b[0m\n\u001b[0;32m     10\u001b[0m \u001b[0mcv2\u001b[0m\u001b[1;33m.\u001b[0m\u001b[0mwaitKey\u001b[0m\u001b[1;33m(\u001b[0m\u001b[1;33m)\u001b[0m \u001b[1;31m# image tidak akan diclose,sebelum user menekan sembarang tombol\u001b[0m\u001b[1;33m\u001b[0m\u001b[1;33m\u001b[0m\u001b[0m\n\u001b[1;32m---> 11\u001b[1;33m \u001b[0mcv2\u001b[0m\u001b[1;33m.\u001b[0m\u001b[0mdestroyWindow\u001b[0m\u001b[1;33m(\u001b[0m\u001b[1;34m'Output'\u001b[0m\u001b[1;33m)\u001b[0m \u001b[1;31m# image akan diclose\u001b[0m\u001b[1;33m\u001b[0m\u001b[1;33m\u001b[0m\u001b[0m\n\u001b[0m",
      "\u001b[1;31merror\u001b[0m: OpenCV(4.5.4-dev) D:\\a\\opencv-python\\opencv-python\\opencv\\modules\\highgui\\src\\window_w32.cpp:1261: error: (-27:Null pointer) NULL window: 'Output' in function 'cvDestroyWindow'\n"
     ]
    }
   ],
   "source": [
    "if q_pred<=0.5 :\n",
    "    target = \"Jambu Biji\"\n",
    "else :\n",
    "    target = \"Pandan\"\n",
    "text = \"{}\".format(target)\n",
    "cv2.putText(output, text, (10, 30), cv2.FONT_HERSHEY_SIMPLEX, 0.7, (0, 0, 255), 2)\n",
    " \n",
    "# menampilkan output image\n",
    "cv2.imshow('Output', output)\n",
    "cv2.waitKey() # image tidak akan diclose,sebelum user menekan sembarang tombol\n",
    "cv2.destroyWindow('Output') # image akan diclose"
   ]
  }
 ],
 "metadata": {
  "kernelspec": {
   "display_name": "Python 3",
   "language": "python",
   "name": "python3"
  },
  "language_info": {
   "codemirror_mode": {
    "name": "ipython",
    "version": 3
   },
   "file_extension": ".py",
   "mimetype": "text/x-python",
   "name": "python",
   "nbconvert_exporter": "python",
   "pygments_lexer": "ipython3",
   "version": "3.9.6"
  }
 },
 "nbformat": 4,
 "nbformat_minor": 4
}
